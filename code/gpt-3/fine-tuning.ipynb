{
 "cells": [
  {
   "attachments": {},
   "cell_type": "markdown",
   "metadata": {},
   "source": [
    "# Fine-Tuning GPT3\n",
    "This file covers how we fine-tuned GPT-3 for our specific usecase. It also shows us testing the model after the fine-tune. Our API key has been removed for obvious reasons."
   ]
  },
  {
   "cell_type": "markdown",
   "metadata": {},
   "source": [
    "## Setup"
   ]
  },
  {
   "cell_type": "code",
   "execution_count": 2,
   "metadata": {},
   "outputs": [],
   "source": [
    "import openai\n",
    "import os"
   ]
  },
  {
   "cell_type": "markdown",
   "metadata": {},
   "source": [
    "### Importing OPENAI API KEY \n",
    "* For importing the openai API key safely, see lik: https://help.openai.com/en/articles/5112595-best-practices-for-api-key-safety\n",
    "* if you are using a conda environment, you can set the api link as an environment variable, see link:  https://conda.io/projects/conda/en/latest/user-guide/tasks/manage-environments.html#setting-environment-variables  "
   ]
  },
  {
   "cell_type": "code",
   "execution_count": 3,
   "metadata": {},
   "outputs": [],
   "source": [
    "# importing api file \n",
    "openai.api_key = \"INSERT KEY\"\n",
    "\n",
    "# OTHER WAY to import api file \n",
    "#openai.api_key = os.environ[\"OPENAI_API_KEY\"]"
   ]
  },
  {
   "cell_type": "markdown",
   "metadata": {},
   "source": [
    "# Finetuning in Python\n",
    "* For preparing data & finetuning using OPENAI's CLI tool, see link: https://beta.openai.com/docs/guides/fine-tuning  \n",
    "* For finetuning in Python, see link: https://beta.openai.com/docs/api-reference/engines#finetune and https://betterprogramming.pub/fine-tune-gpt3-for-quality-results-3f91f1ab44ea  \n"
   ]
  },
  {
   "cell_type": "code",
   "execution_count": 12,
   "metadata": {},
   "outputs": [
    {
     "data": {
      "text/plain": [
       "<File file id=file-WjG5a4gyx5hexEILoas2gHK9 at 0x7fcd8107b770> JSON: {\n",
       "  \"bytes\": 1258601,\n",
       "  \"created_at\": 1665131164,\n",
       "  \"filename\": \"file\",\n",
       "  \"id\": \"file-WjG5a4gyx5hexEILoas2gHK9\",\n",
       "  \"object\": \"file\",\n",
       "  \"purpose\": \"fine-tune\",\n",
       "  \"status\": \"uploaded\",\n",
       "  \"status_details\": null\n",
       "}"
      ]
     },
     "execution_count": 12,
     "metadata": {},
     "output_type": "execute_result"
    }
   ],
   "source": [
    "# Upload file\n",
    "openai.File.create(\n",
    "  file=open(\"./data/samf_articles.jsonl\"),\n",
    "  purpose='fine-tune'\n",
    ")"
   ]
  },
  {
   "cell_type": "code",
   "execution_count": 13,
   "metadata": {},
   "outputs": [
    {
     "data": {
      "text/plain": [
       "<FineTune fine-tune id=ft-z6L9WsaZgZJrNlY9uWudqeDN at 0x7fcd7f6801d0> JSON: {\n",
       "  \"created_at\": 1665131649,\n",
       "  \"events\": [\n",
       "    {\n",
       "      \"created_at\": 1665131649,\n",
       "      \"level\": \"info\",\n",
       "      \"message\": \"Created fine-tune: ft-z6L9WsaZgZJrNlY9uWudqeDN\",\n",
       "      \"object\": \"fine-tune-event\"\n",
       "    }\n",
       "  ],\n",
       "  \"fine_tuned_model\": null,\n",
       "  \"hyperparams\": {\n",
       "    \"batch_size\": null,\n",
       "    \"learning_rate_multiplier\": null,\n",
       "    \"n_epochs\": 2,\n",
       "    \"prompt_loss_weight\": 0.01\n",
       "  },\n",
       "  \"id\": \"ft-z6L9WsaZgZJrNlY9uWudqeDN\",\n",
       "  \"model\": \"davinci\",\n",
       "  \"object\": \"fine-tune\",\n",
       "  \"organization_id\": \"org-L8N5gTHRSsmO0cHZT9riy8tQ\",\n",
       "  \"result_files\": [],\n",
       "  \"status\": \"pending\",\n",
       "  \"training_files\": [\n",
       "    {\n",
       "      \"bytes\": 1258601,\n",
       "      \"created_at\": 1665131164,\n",
       "      \"filename\": \"file\",\n",
       "      \"id\": \"file-WjG5a4gyx5hexEILoas2gHK9\",\n",
       "      \"object\": \"file\",\n",
       "      \"purpose\": \"fine-tune\",\n",
       "      \"status\": \"processed\",\n",
       "      \"status_details\": null\n",
       "    }\n",
       "  ],\n",
       "  \"updated_at\": 1665131649,\n",
       "  \"validation_files\": []\n",
       "}"
      ]
     },
     "execution_count": 13,
     "metadata": {},
     "output_type": "execute_result"
    }
   ],
   "source": [
    "# Creating a FINE_TUNE \n",
    "openai.FineTune.create(training_file=\"file-WjG5a4gyx5hexEILoas2gHK9\", n_epochs = 2, model = \"davinci\", suffix=\"finetuning_samfonly\")"
   ]
  },
  {
   "cell_type": "code",
   "execution_count": 14,
   "metadata": {},
   "outputs": [
    {
     "data": {
      "text/plain": [
       "<FineTune fine-tune id=ft-z6L9WsaZgZJrNlY9uWudqeDN at 0x7fcd7f680d60> JSON: {\n",
       "  \"created_at\": 1665131649,\n",
       "  \"events\": [\n",
       "    {\n",
       "      \"created_at\": 1665131649,\n",
       "      \"level\": \"info\",\n",
       "      \"message\": \"Created fine-tune: ft-z6L9WsaZgZJrNlY9uWudqeDN\",\n",
       "      \"object\": \"fine-tune-event\"\n",
       "    },\n",
       "    {\n",
       "      \"created_at\": 1665131655,\n",
       "      \"level\": \"info\",\n",
       "      \"message\": \"Fine-tune costs $27.24\",\n",
       "      \"object\": \"fine-tune-event\"\n",
       "    },\n",
       "    {\n",
       "      \"created_at\": 1665131655,\n",
       "      \"level\": \"info\",\n",
       "      \"message\": \"Fine-tune enqueued. Queue number: 0\",\n",
       "      \"object\": \"fine-tune-event\"\n",
       "    },\n",
       "    {\n",
       "      \"created_at\": 1665131657,\n",
       "      \"level\": \"info\",\n",
       "      \"message\": \"Fine-tune started\",\n",
       "      \"object\": \"fine-tune-event\"\n",
       "    }\n",
       "  ],\n",
       "  \"fine_tuned_model\": null,\n",
       "  \"hyperparams\": {\n",
       "    \"batch_size\": 2,\n",
       "    \"learning_rate_multiplier\": 0.2,\n",
       "    \"n_epochs\": 2,\n",
       "    \"prompt_loss_weight\": 0.01\n",
       "  },\n",
       "  \"id\": \"ft-z6L9WsaZgZJrNlY9uWudqeDN\",\n",
       "  \"model\": \"davinci\",\n",
       "  \"object\": \"fine-tune\",\n",
       "  \"organization_id\": \"org-L8N5gTHRSsmO0cHZT9riy8tQ\",\n",
       "  \"result_files\": [],\n",
       "  \"status\": \"running\",\n",
       "  \"training_files\": [\n",
       "    {\n",
       "      \"bytes\": 1258601,\n",
       "      \"created_at\": 1665131164,\n",
       "      \"filename\": \"file\",\n",
       "      \"id\": \"file-WjG5a4gyx5hexEILoas2gHK9\",\n",
       "      \"object\": \"file\",\n",
       "      \"purpose\": \"fine-tune\",\n",
       "      \"status\": \"processed\",\n",
       "      \"status_details\": null\n",
       "    }\n",
       "  ],\n",
       "  \"updated_at\": 1665131657,\n",
       "  \"validation_files\": []\n",
       "}"
      ]
     },
     "execution_count": 14,
     "metadata": {},
     "output_type": "execute_result"
    }
   ],
   "source": [
    "# Get info on fine-tune\n",
    "openai.FineTune.retrieve(id=\"ft-z6L9WsaZgZJrNlY9uWudqeDN\")\n"
   ]
  },
  {
   "cell_type": "code",
   "execution_count": 15,
   "metadata": {},
   "outputs": [
    {
     "data": {
      "text/plain": [
       "<File file id=file-WjG5a4gyx5hexEILoas2gHK9 at 0x7fcd7f683220> JSON: {\n",
       "  \"bytes\": 1258601,\n",
       "  \"created_at\": 1665131164,\n",
       "  \"filename\": \"file\",\n",
       "  \"id\": \"file-WjG5a4gyx5hexEILoas2gHK9\",\n",
       "  \"object\": \"file\",\n",
       "  \"purpose\": \"fine-tune\",\n",
       "  \"status\": \"processed\",\n",
       "  \"status_details\": null\n",
       "}"
      ]
     },
     "execution_count": 15,
     "metadata": {},
     "output_type": "execute_result"
    }
   ],
   "source": [
    "# Retrieve fine-tune\n",
    "openai.File.retrieve(\"file-WjG5a4gyx5hexEILoas2gHK9\")"
   ]
  },
  {
   "cell_type": "markdown",
   "metadata": {},
   "source": [
    "# Post-Finetuning \n",
    "After you’ve fine-tuned a model, remember that your prompt has to end with the indicator string `. ->` for the model to start generating completions, rather than continuing with the prompt. Make sure to include `stop=[\"\\n\"]` so that the generated texts ends at the expected place."
   ]
  },
  {
   "cell_type": "code",
   "execution_count": 19,
   "metadata": {},
   "outputs": [
    {
     "name": "stdout",
     "output_type": "stream",
     "text": [
      "davinci:ft-personal:finetuning-samfonly-2022-10-07-09-03-59\n"
     ]
    }
   ],
   "source": [
    "# storing all fine-tuned models in a list\n",
    "finetunes = openai.FineTune.list()\n",
    "\n",
    "#getting the fine-tuned model name\n",
    "fine_tuned_model = finetunes.data[1].fine_tuned_model\n",
    "\n",
    "print(fine_tuned_model)"
   ]
  },
  {
   "cell_type": "code",
   "execution_count": 31,
   "metadata": {},
   "outputs": [],
   "source": [
    "# define prompt\n",
    "prompt = \"Regeringen når aftale om forbud mod udbredt fiskemetode. Fra 1. januar skal det være forbudt at fange fisk i Bælthavet omkring Fyn og Langeland ved hjælp af bundtrawl.->\""
   ]
  },
  {
   "cell_type": "code",
   "execution_count": 34,
   "metadata": {},
   "outputs": [],
   "source": [
    "# create completition object\n",
    "completion = openai.Completion.create(\n",
    "    model=fine_tuned_model,\n",
    "    prompt=prompt, \n",
    "    stop = \"\\n\", \n",
    "    temperature = 0,\n",
    "    max_tokens=300,\n",
    "    best_of=1,\n",
    "    frequency_penalty=0.2,\n",
    "    presence_penalty=0.2\n",
    "    )"
   ]
  },
  {
   "cell_type": "code",
   "execution_count": 35,
   "metadata": {},
   "outputs": [
    {
     "data": {
      "text/plain": [
       "' Det er nu officielt. I slutningen af måneden nåede regeringen og Enhedslisten, Alternativet og SF til en aftale om forbud mod det fiskemetoden, der kaldes bundtrawl. Det skriver miljø- og fødevareminister Jakob Ellemann-Jensen (V) i en pressemeddelelse. Fra 1. januar 2020 vil det være forbudt at fange fisk i Bælthavet - også kaldet Lillebælt - omkring Fyn og Langeland ved hjælp af bundtrawl. - Vi har med dette forbud taget et stort skridt på vejen mod at sikre os mod de negative effekter ved bundtrawl, siger Jakob Ellemann-Jensen i pressemeddelelsen. Det er selskaberne, der skal administrere forbuddet, men ministeren sikrer sig via aftalen, at der er mulighed for sanktioner, hvis ikke reglerne overholdes. - Hvis de selv administrerer forbuddet, sikrer vi os gennem aftalen, at de bliver sanktioneret meget'"
      ]
     },
     "execution_count": 35,
     "metadata": {},
     "output_type": "execute_result"
    }
   ],
   "source": [
    "#print \n",
    "completion.choices[0].text"
   ]
  }
 ],
 "metadata": {
  "kernelspec": {
   "display_name": "Python 3.8.10 ('base')",
   "language": "python",
   "name": "python3"
  },
  "language_info": {
   "codemirror_mode": {
    "name": "ipython",
    "version": 3
   },
   "file_extension": ".py",
   "mimetype": "text/x-python",
   "name": "python",
   "nbconvert_exporter": "python",
   "pygments_lexer": "ipython3",
   "version": "3.8.10"
  },
  "orig_nbformat": 4,
  "vscode": {
   "interpreter": {
    "hash": "c30f2af5f468e7f5b45bcc30fca5f4886c90d54777aed916ed5f6294dfb24bf2"
   }
  }
 },
 "nbformat": 4,
 "nbformat_minor": 2
}
