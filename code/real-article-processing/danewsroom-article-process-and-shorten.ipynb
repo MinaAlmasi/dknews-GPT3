{
  "cells": [
    {
      "attachments": {},
      "cell_type": "markdown",
      "metadata": {
        "id": "26CPNF_cwtBS"
      },
      "source": [
        "# DaNewsRoom: Samfundsartikler @ TV2\n",
        "This file covers how real news articles from DaNewsRoom were pre-processed"
      ]
    },
    {
      "cell_type": "markdown",
      "metadata": {
        "id": "-lz3PwqA0dTZ"
      },
      "source": [
        "## SETUP: Packages & Data"
      ]
    },
    {
      "cell_type": "code",
      "execution_count": 1,
      "metadata": {
        "colab": {
          "base_uri": "https://localhost:8080/"
        },
        "id": "SztRHEf7pdWU",
        "outputId": "acbea0d8-3216-4751-fe50-0671c04b0a04"
      },
      "outputs": [
        {
          "data": {
            "text/plain": [
              "True"
            ]
          },
          "execution_count": 1,
          "metadata": {},
          "output_type": "execute_result"
        }
      ],
      "source": [
        "import nltk\n",
        "nltk.download(\"popular\", quiet=True)"
      ]
    },
    {
      "cell_type": "code",
      "execution_count": 2,
      "metadata": {
        "id": "_H84C-zM0eZY"
      },
      "outputs": [],
      "source": [
        "import gzip \n",
        "import pandas as pd \n",
        "from nltk.tokenize import word_tokenize, TreebankWordDetokenizer"
      ]
    },
    {
      "cell_type": "code",
      "execution_count": 4,
      "metadata": {
        "colab": {
          "base_uri": "https://localhost:8080/"
        },
        "id": "j9brnxlG2OOx",
        "outputId": "fb951eeb-ad44-4565-e4ca-4d3e435dd604"
      },
      "outputs": [
        {
          "name": "stdout",
          "output_type": "stream",
          "text": [
            "Mounted at /content/drive\n"
          ]
        }
      ],
      "source": [
        "#mount google drive (if run from google colab)\n",
        "from google.colab import drive\n",
        "drive.mount(\"/content/drive\")"
      ]
    },
    {
      "cell_type": "code",
      "execution_count": 5,
      "metadata": {
        "id": "17Gxpwxi0lq8"
      },
      "outputs": [],
      "source": [
        "with gzip.open(\"/content/drive/MyDrive/000 bachelor-project/danewsroom/danewsroom.jsonl.gz\") as f:\n",
        "    raw_data = pd.read_json(f, lines=True)"
      ]
    },
    {
      "cell_type": "code",
      "execution_count": 6,
      "metadata": {
        "id": "Zg-JfoWF_HTQ"
      },
      "outputs": [],
      "source": [
        "data = raw_data.copy()"
      ]
    },
    {
      "cell_type": "code",
      "execution_count": 7,
      "metadata": {
        "id": "ZzgPr4Zi9ls-"
      },
      "outputs": [],
      "source": [
        "data = data[data[\"site\"]==\"nyhederne.tv2.dk\"]\n",
        "data = data.reset_index(drop=True)"
      ]
    },
    {
      "cell_type": "code",
      "execution_count": 8,
      "metadata": {
        "id": "ACVjwVZP3vCS"
      },
      "outputs": [],
      "source": [
        "urls = data[\"url\"]"
      ]
    },
    {
      "cell_type": "markdown",
      "metadata": {
        "id": "5PnBW4kcbnM1"
      },
      "source": [
        "### Filter only SAMFUND articles"
      ]
    },
    {
      "cell_type": "code",
      "execution_count": 9,
      "metadata": {
        "id": "nazvG9oi5EIr"
      },
      "outputs": [],
      "source": [
        "import re \n",
        "\n",
        "samfund_urls = []\n",
        "\n",
        "for i in range(len(urls)): \n",
        "  match = re.search(r\"\\bsamfund\\b\", urls[i])\n",
        "  if match is not None: \n",
        "    samfund_urls.append(urls[i])"
      ]
    },
    {
      "cell_type": "code",
      "execution_count": 12,
      "metadata": {
        "id": "zlr-sGQ9BKzT"
      },
      "outputs": [],
      "source": [
        "samfund_urls_df = pd.DataFrame(samfund_urls, columns = [\"url\"])"
      ]
    },
    {
      "cell_type": "code",
      "execution_count": 13,
      "metadata": {
        "id": "iPu2WDtlCiAq"
      },
      "outputs": [],
      "source": [
        "samf_data = data.copy()\n",
        "samf_data = samf_data.merge(samfund_urls_df, on=\"url\", how=\"inner\")"
      ]
    },
    {
      "cell_type": "markdown",
      "metadata": {
        "id": "aW6eZbJYbr7I"
      },
      "source": [
        "### Cleaning data (NB)"
      ]
    },
    {
      "cell_type": "code",
      "execution_count": 14,
      "metadata": {
        "id": "2c9mD6D5bwIG"
      },
      "outputs": [],
      "source": [
        "# select columns\n",
        "samf_data = samf_data[[\"url\", \"title\", \"text\"]]"
      ]
    },
    {
      "cell_type": "code",
      "execution_count": 15,
      "metadata": {
        "id": "YZ-JU3a0G7XJ"
      },
      "outputs": [],
      "source": [
        "#rename title column \n",
        "samf_data = samf_data.rename(columns = {'title':'header'})"
      ]
    },
    {
      "cell_type": "code",
      "execution_count": 16,
      "metadata": {
        "colab": {
          "base_uri": "https://localhost:8080/",
          "height": 641
        },
        "id": "oI-qVcVfG98U",
        "outputId": "d91a190c-f8ee-4dd1-fcdc-133f598e6980"
      },
      "outputs": [
        {
          "data": {
            "text/html": [
              "\n",
              "  <div id=\"df-496f3a25-aa8b-4fed-9064-ce8cf2f4da19\">\n",
              "    <div class=\"colab-df-container\">\n",
              "      <div>\n",
              "<style scoped>\n",
              "    .dataframe tbody tr th:only-of-type {\n",
              "        vertical-align: middle;\n",
              "    }\n",
              "\n",
              "    .dataframe tbody tr th {\n",
              "        vertical-align: top;\n",
              "    }\n",
              "\n",
              "    .dataframe thead th {\n",
              "        text-align: right;\n",
              "    }\n",
              "</style>\n",
              "<table border=\"1\" class=\"dataframe\">\n",
              "  <thead>\n",
              "    <tr style=\"text-align: right;\">\n",
              "      <th></th>\n",
              "      <th>url</th>\n",
              "      <th>header</th>\n",
              "      <th>text</th>\n",
              "    </tr>\n",
              "  </thead>\n",
              "  <tbody>\n",
              "    <tr>\n",
              "      <th>0</th>\n",
              "      <td>http://nyhederne.tv2.dk/samfund/2014-10-19-eti...</td>\n",
              "      <td>Etisk Råd: Gentest kan give sort sky over hovedet</td>\n",
              "      <td>Der er sket en fordobling i antallet af danske...</td>\n",
              "    </tr>\n",
              "    <tr>\n",
              "      <th>1</th>\n",
              "      <td>http://nyhederne.tv2.dk/samfund/2014-09-03-fra...</td>\n",
              "      <td>Fra nedtur til optur: Danmark bedre til konkur...</td>\n",
              "      <td>Danmark rykker frem på rangliste over de mest ...</td>\n",
              "    </tr>\n",
              "    <tr>\n",
              "      <th>2</th>\n",
              "      <td>http://nyhederne.tv2.dk/samfund/2015-03-10-adv...</td>\n",
              "      <td>Advarsel: Drikkevandet skal koges i Vrads</td>\n",
              "      <td>Borgerne i Vrads syd for Silkeborg skal koge v...</td>\n",
              "    </tr>\n",
              "    <tr>\n",
              "      <th>3</th>\n",
              "      <td>http://nyhederne.tv2.dk/samfund/2015-11-28-asy...</td>\n",
              "      <td>Asylsøgere må vente 10 måneder på samtale</td>\n",
              "      <td>Der bør kun gå \"kort tid\", før asylansøgere, d...</td>\n",
              "    </tr>\n",
              "    <tr>\n",
              "      <th>4</th>\n",
              "      <td>http://nyhederne.tv2.dk/samfund/2014-01-05-eft...</td>\n",
              "      <td>Efter søns selvmord: Melder læge til politiet</td>\n",
              "      <td>Den 20-årige Danilo Terrida tog sit eget liv v...</td>\n",
              "    </tr>\n",
              "    <tr>\n",
              "      <th>...</th>\n",
              "      <td>...</td>\n",
              "      <td>...</td>\n",
              "      <td>...</td>\n",
              "    </tr>\n",
              "    <tr>\n",
              "      <th>4448</th>\n",
              "      <td>http://nyhederne.tv2.dk/samfund/2014-02-08-lyk...</td>\n",
              "      <td>Lykketoft om Israel: - Der er ingen diplomatis...</td>\n",
              "      <td>Folketingets formand Mogens Lykketoft (S) er b...</td>\n",
              "    </tr>\n",
              "    <tr>\n",
              "      <th>4449</th>\n",
              "      <td>http://nyhederne.tv2.dk/samfund/2014-08-27-ove...</td>\n",
              "      <td>Overborgmesteren vil tv-overvåge mere af Køben...</td>\n",
              "      <td>Der skal gives mere kommunal støtte til TV-ove...</td>\n",
              "    </tr>\n",
              "    <tr>\n",
              "      <th>4450</th>\n",
              "      <td>http://nyhederne.tv2.dk/samfund/2014-09-11-nyt...</td>\n",
              "      <td>Nyttejob overtager kommunalt ansattes arbejde</td>\n",
              "      <td>Nyttejob-ordningen, der sender kontanthjælpsmo...</td>\n",
              "    </tr>\n",
              "    <tr>\n",
              "      <th>4451</th>\n",
              "      <td>http://nyhederne.tv2.dk/samfund/2015-10-05-fla...</td>\n",
              "      <td>Flaskesamler vil ikke være i Danmark: Hjælp mi...</td>\n",
              "      <td>I 2010 satte nigerianske Kingsley Okoro livet ...</td>\n",
              "    </tr>\n",
              "    <tr>\n",
              "      <th>4452</th>\n",
              "      <td>http://nyhederne.tv2.dk/samfund/2015-02-23-pro...</td>\n",
              "      <td>Professor: Det er ikke ok at bruge forskningsm...</td>\n",
              "      <td>En af landets førende hjertelæger, den tidlige...</td>\n",
              "    </tr>\n",
              "  </tbody>\n",
              "</table>\n",
              "<p>4453 rows × 3 columns</p>\n",
              "</div>\n",
              "      <button class=\"colab-df-convert\" onclick=\"convertToInteractive('df-496f3a25-aa8b-4fed-9064-ce8cf2f4da19')\"\n",
              "              title=\"Convert this dataframe to an interactive table.\"\n",
              "              style=\"display:none;\">\n",
              "        \n",
              "  <svg xmlns=\"http://www.w3.org/2000/svg\" height=\"24px\"viewBox=\"0 0 24 24\"\n",
              "       width=\"24px\">\n",
              "    <path d=\"M0 0h24v24H0V0z\" fill=\"none\"/>\n",
              "    <path d=\"M18.56 5.44l.94 2.06.94-2.06 2.06-.94-2.06-.94-.94-2.06-.94 2.06-2.06.94zm-11 1L8.5 8.5l.94-2.06 2.06-.94-2.06-.94L8.5 2.5l-.94 2.06-2.06.94zm10 10l.94 2.06.94-2.06 2.06-.94-2.06-.94-.94-2.06-.94 2.06-2.06.94z\"/><path d=\"M17.41 7.96l-1.37-1.37c-.4-.4-.92-.59-1.43-.59-.52 0-1.04.2-1.43.59L10.3 9.45l-7.72 7.72c-.78.78-.78 2.05 0 2.83L4 21.41c.39.39.9.59 1.41.59.51 0 1.02-.2 1.41-.59l7.78-7.78 2.81-2.81c.8-.78.8-2.07 0-2.86zM5.41 20L4 18.59l7.72-7.72 1.47 1.35L5.41 20z\"/>\n",
              "  </svg>\n",
              "      </button>\n",
              "      \n",
              "  <style>\n",
              "    .colab-df-container {\n",
              "      display:flex;\n",
              "      flex-wrap:wrap;\n",
              "      gap: 12px;\n",
              "    }\n",
              "\n",
              "    .colab-df-convert {\n",
              "      background-color: #E8F0FE;\n",
              "      border: none;\n",
              "      border-radius: 50%;\n",
              "      cursor: pointer;\n",
              "      display: none;\n",
              "      fill: #1967D2;\n",
              "      height: 32px;\n",
              "      padding: 0 0 0 0;\n",
              "      width: 32px;\n",
              "    }\n",
              "\n",
              "    .colab-df-convert:hover {\n",
              "      background-color: #E2EBFA;\n",
              "      box-shadow: 0px 1px 2px rgba(60, 64, 67, 0.3), 0px 1px 3px 1px rgba(60, 64, 67, 0.15);\n",
              "      fill: #174EA6;\n",
              "    }\n",
              "\n",
              "    [theme=dark] .colab-df-convert {\n",
              "      background-color: #3B4455;\n",
              "      fill: #D2E3FC;\n",
              "    }\n",
              "\n",
              "    [theme=dark] .colab-df-convert:hover {\n",
              "      background-color: #434B5C;\n",
              "      box-shadow: 0px 1px 3px 1px rgba(0, 0, 0, 0.15);\n",
              "      filter: drop-shadow(0px 1px 2px rgba(0, 0, 0, 0.3));\n",
              "      fill: #FFFFFF;\n",
              "    }\n",
              "  </style>\n",
              "\n",
              "      <script>\n",
              "        const buttonEl =\n",
              "          document.querySelector('#df-496f3a25-aa8b-4fed-9064-ce8cf2f4da19 button.colab-df-convert');\n",
              "        buttonEl.style.display =\n",
              "          google.colab.kernel.accessAllowed ? 'block' : 'none';\n",
              "\n",
              "        async function convertToInteractive(key) {\n",
              "          const element = document.querySelector('#df-496f3a25-aa8b-4fed-9064-ce8cf2f4da19');\n",
              "          const dataTable =\n",
              "            await google.colab.kernel.invokeFunction('convertToInteractive',\n",
              "                                                     [key], {});\n",
              "          if (!dataTable) return;\n",
              "\n",
              "          const docLinkHtml = 'Like what you see? Visit the ' +\n",
              "            '<a target=\"_blank\" href=https://colab.research.google.com/notebooks/data_table.ipynb>data table notebook</a>'\n",
              "            + ' to learn more about interactive tables.';\n",
              "          element.innerHTML = '';\n",
              "          dataTable['output_type'] = 'display_data';\n",
              "          await google.colab.output.renderOutput(dataTable, element);\n",
              "          const docLink = document.createElement('div');\n",
              "          docLink.innerHTML = docLinkHtml;\n",
              "          element.appendChild(docLink);\n",
              "        }\n",
              "      </script>\n",
              "    </div>\n",
              "  </div>\n",
              "  "
            ],
            "text/plain": [
              "                                                    url  \\\n",
              "0     http://nyhederne.tv2.dk/samfund/2014-10-19-eti...   \n",
              "1     http://nyhederne.tv2.dk/samfund/2014-09-03-fra...   \n",
              "2     http://nyhederne.tv2.dk/samfund/2015-03-10-adv...   \n",
              "3     http://nyhederne.tv2.dk/samfund/2015-11-28-asy...   \n",
              "4     http://nyhederne.tv2.dk/samfund/2014-01-05-eft...   \n",
              "...                                                 ...   \n",
              "4448  http://nyhederne.tv2.dk/samfund/2014-02-08-lyk...   \n",
              "4449  http://nyhederne.tv2.dk/samfund/2014-08-27-ove...   \n",
              "4450  http://nyhederne.tv2.dk/samfund/2014-09-11-nyt...   \n",
              "4451  http://nyhederne.tv2.dk/samfund/2015-10-05-fla...   \n",
              "4452  http://nyhederne.tv2.dk/samfund/2015-02-23-pro...   \n",
              "\n",
              "                                                 header  \\\n",
              "0     Etisk Råd: Gentest kan give sort sky over hovedet   \n",
              "1     Fra nedtur til optur: Danmark bedre til konkur...   \n",
              "2             Advarsel: Drikkevandet skal koges i Vrads   \n",
              "3             Asylsøgere må vente 10 måneder på samtale   \n",
              "4         Efter søns selvmord: Melder læge til politiet   \n",
              "...                                                 ...   \n",
              "4448  Lykketoft om Israel: - Der er ingen diplomatis...   \n",
              "4449  Overborgmesteren vil tv-overvåge mere af Køben...   \n",
              "4450      Nyttejob overtager kommunalt ansattes arbejde   \n",
              "4451  Flaskesamler vil ikke være i Danmark: Hjælp mi...   \n",
              "4452  Professor: Det er ikke ok at bruge forskningsm...   \n",
              "\n",
              "                                                   text  \n",
              "0     Der er sket en fordobling i antallet af danske...  \n",
              "1     Danmark rykker frem på rangliste over de mest ...  \n",
              "2     Borgerne i Vrads syd for Silkeborg skal koge v...  \n",
              "3     Der bør kun gå \"kort tid\", før asylansøgere, d...  \n",
              "4     Den 20-årige Danilo Terrida tog sit eget liv v...  \n",
              "...                                                 ...  \n",
              "4448  Folketingets formand Mogens Lykketoft (S) er b...  \n",
              "4449  Der skal gives mere kommunal støtte til TV-ove...  \n",
              "4450  Nyttejob-ordningen, der sender kontanthjælpsmo...  \n",
              "4451  I 2010 satte nigerianske Kingsley Okoro livet ...  \n",
              "4452  En af landets førende hjertelæger, den tidlige...  \n",
              "\n",
              "[4453 rows x 3 columns]"
            ]
          },
          "execution_count": 16,
          "metadata": {},
          "output_type": "execute_result"
        }
      ],
      "source": [
        "samf_data"
      ]
    },
    {
      "cell_type": "code",
      "execution_count": 17,
      "metadata": {
        "id": "_qCgMYhZe6eI"
      },
      "outputs": [],
      "source": [
        "for i in range(len(samf_data[\"text\"])):\n",
        "  samf_data[\"text\"][i] = samf_data[\"text\"][i].replace(\"\\n\\n\", \" \")"
      ]
    },
    {
      "cell_type": "markdown",
      "metadata": {
        "id": "19E0ghIGe3Pb"
      },
      "source": [
        "### Subheaders & Cleaning Text Column"
      ]
    },
    {
      "cell_type": "code",
      "execution_count": 18,
      "metadata": {
        "id": "TNOmkawtCuBP"
      },
      "outputs": [],
      "source": [
        "sub_headers = []\n",
        "\n",
        "for i in range(len(samf_data[\"text\"])):\n",
        "  sentence_tokenize = nltk.sent_tokenize(samf_data[\"text\"][i]) #tokenize but in sentences\n",
        "  sub_headers.append(sentence_tokenize[0]) #append the first sentence to sub_headers lst \n",
        "\n",
        "# create sub_header col \n",
        "samf_data[\"sub_header\"] = sub_headers"
      ]
    },
    {
      "cell_type": "code",
      "execution_count": 19,
      "metadata": {
        "id": "x-x0AzqkiFAV"
      },
      "outputs": [],
      "source": [
        "short_text = []\n",
        "\n",
        "for i in range(len(samf_data[\"text\"])):\n",
        "  n_remove = len(samf_data[\"sub_header\"][i]) + 1 #remove sub_header from text\n",
        "  short_text.append(samf_data[\"text\"][i][n_remove:])\n",
        "\n",
        "# create text col with sub_header removed\n",
        "samf_data[\"short_text\"] = short_text"
      ]
    },
    {
      "cell_type": "markdown",
      "metadata": {
        "id": "_9AL0Gp9owAy"
      },
      "source": [
        "## Shorten Article Function"
      ]
    },
    {
      "cell_type": "code",
      "execution_count": 24,
      "metadata": {
        "id": "r4KNgm70oxRU"
      },
      "outputs": [],
      "source": [
        "def shorten_article(article: str) -> str:\n",
        "    '''\n",
        "    Function to shorten an article to roughly 120 words using nltk (stops at the first natural punctuation after 120 words) \n",
        "\n",
        "    Parameters\n",
        "    article (text to be shortened): str\n",
        "    '''\n",
        "\n",
        "    tokens = word_tokenize(article) #use nltk to tokenize the text\n",
        "    punctuations = [\".\", \"!\", \"?\", \",\"]\n",
        "    stops = [\".\", \"!\", \"?\",]\n",
        "\n",
        "    counter = 0 \n",
        "    \n",
        "    short_article = []\n",
        "    \n",
        "    for i in range(len(tokens)): \n",
        "        if counter > 120 and tokens[i] in stops: # if counter is over 120 & token is a stop, break the loop (to not cut in middle of a sentence)\n",
        "            short_article.append(tokens[i]) \n",
        "            break\n",
        "        else: \n",
        "            if tokens[i] not in punctuations: # count the number of words (not punctuations)\n",
        "                short_article.append(tokens[i])\n",
        "                counter += 1\n",
        "            else: \n",
        "                short_article.append(tokens[i]) # add punctuation to the list but not count it\n",
        "\n",
        "    detokenize_article = TreebankWordDetokenizer().detokenize(short_article) # use nltk to detokenize the text\n",
        "    detokenize_article = detokenize_article.replace(\" .\", \".\") # fix detokenization errors\n",
        "\n",
        "    return detokenize_article\n",
        "\n",
        "def shorten_all_articles(text_column:pd.Series)-> list:\n",
        "    '''\n",
        "    Function to shorten all articles in a text column using the shorten_article function\n",
        "\n",
        "    Parameters\n",
        "    text_column (column with articles to be shortened): pd.Series\n",
        "    '''\n",
        "    short_articles = []\n",
        "    for article in text_column:\n",
        "        short_articles.append(shorten_article(article))\n",
        "    return short_articles"
      ]
    },
    {
      "cell_type": "markdown",
      "metadata": {
        "id": "5sSsCNs4o1qD"
      },
      "source": [
        "## Shortening Articles"
      ]
    },
    {
      "cell_type": "code",
      "execution_count": 25,
      "metadata": {
        "id": "9Gn3vjAjpAMp"
      },
      "outputs": [],
      "source": [
        "#shorten all articles\n",
        "samf_data[\"short_text\"] = shorten_all_articles(samf_data[\"short_text\"])"
      ]
    },
    {
      "cell_type": "markdown",
      "metadata": {
        "id": "GfDpIPq0c9dL"
      },
      "source": [
        "## Save CSV"
      ]
    },
    {
      "cell_type": "code",
      "execution_count": 40,
      "metadata": {
        "id": "s7N9iSRgc-rL"
      },
      "outputs": [],
      "source": [
        "samf_data_gpt3 = samf_data[:428]"
      ]
    },
    {
      "cell_type": "code",
      "execution_count": 41,
      "metadata": {
        "id": "oe3KL7S2fKmL"
      },
      "outputs": [],
      "source": [
        "samf_data_human = samf_data[428:856]"
      ]
    },
    {
      "cell_type": "code",
      "execution_count": 42,
      "metadata": {
        "id": "2iXeEET6fg-r"
      },
      "outputs": [],
      "source": [
        "samf_data_human.to_csv(\"/content/drive/MyDrive/000 bachelor-project/data/danewsroom_articles_human.csv\")"
      ]
    },
    {
      "cell_type": "code",
      "execution_count": 43,
      "metadata": {
        "id": "UTTIRPWcfpJZ"
      },
      "outputs": [],
      "source": [
        "samf_data_gpt3.to_csv(\"/content/drive/MyDrive/000 bachelor-project/data/danewsroom_articles_gpt3.csv\")"
      ]
    }
  ],
  "metadata": {
    "colab": {
      "collapsed_sections": [
        "_9AL0Gp9owAy"
      ],
      "machine_shape": "hm",
      "provenance": []
    },
    "gpuClass": "standard",
    "kernelspec": {
      "display_name": "Python 3",
      "name": "python3"
    },
    "language_info": {
      "name": "python"
    }
  },
  "nbformat": 4,
  "nbformat_minor": 0
}
