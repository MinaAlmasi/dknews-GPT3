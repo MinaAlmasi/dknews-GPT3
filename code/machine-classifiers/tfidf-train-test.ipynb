{
  "nbformat": 4,
  "nbformat_minor": 0,
  "metadata": {
    "colab": {
      "provenance": [],
      "collapsed_sections": [
        "eOWW0er_VTUN"
      ]
    },
    "kernelspec": {
      "name": "python3",
      "display_name": "Python 3"
    },
    "language_info": {
      "name": "python"
    }
  },
  "cells": [
    {
      "cell_type": "markdown",
      "source": [
        "# TF-IDF Model | Bachelor's Project\n",
        "This file covers how our TF-IDF baseline classifier was constructed and fine-tuned for the task of classifying real and synthetic news"
      ],
      "metadata": {
        "id": "LweTWqfDVHVZ"
      }
    },
    {
      "cell_type": "markdown",
      "source": [
        "## Setup (Load & Install Packages)"
      ],
      "metadata": {
        "id": "eOWW0er_VTUN"
      }
    },
    {
      "cell_type": "code",
      "source": [
        "# load packages (pre-installed in colab)\n",
        "import pandas as pd\n",
        "import numpy as np\n",
        "import collections"
      ],
      "metadata": {
        "id": "oZiPU9iQVUDx"
      },
      "execution_count": null,
      "outputs": []
    },
    {
      "cell_type": "code",
      "source": [
        "import nltk\n",
        "nltk.download(\"popular\", quiet=True)"
      ],
      "metadata": {
        "colab": {
          "base_uri": "https://localhost:8080/"
        },
        "id": "Qu3XB2gNVvHu",
        "outputId": "511401d7-13ab-4d10-c7c9-1576e4158312"
      },
      "execution_count": null,
      "outputs": [
        {
          "output_type": "execute_result",
          "data": {
            "text/plain": [
              "True"
            ]
          },
          "metadata": {},
          "execution_count": 2
        }
      ]
    },
    {
      "cell_type": "markdown",
      "source": [
        "## Data Preprocesing (Import & Clean)"
      ],
      "metadata": {
        "id": "Q_bwjYXAXD8u"
      }
    },
    {
      "cell_type": "markdown",
      "source": [
        "#### Import Data"
      ],
      "metadata": {
        "id": "3wnVkMzRWFxW"
      }
    },
    {
      "cell_type": "code",
      "source": [
        "#mount google drive (if run from google colab)\n",
        "from google.colab import drive\n",
        "drive.mount(\"/content/drive\")"
      ],
      "metadata": {
        "id": "jaWVksD-WCwl",
        "colab": {
          "base_uri": "https://localhost:8080/"
        },
        "outputId": "2c33f62c-9b6c-458c-89bf-a98cedfec6b8"
      },
      "execution_count": null,
      "outputs": [
        {
          "output_type": "stream",
          "name": "stdout",
          "text": [
            "Mounted at /content/drive\n"
          ]
        }
      ]
    },
    {
      "cell_type": "code",
      "source": [
        "train_data = pd.read_csv(\"/content/drive/MyDrive/000 bachelor-project/data/labelled_data_for_classifier.csv\")\n",
        "test_data = pd.read_csv(\"/content/drive/MyDrive/000 bachelor-project/data/test_data_classifier.csv\")\n",
        "\n",
        "#select relevant columns\n",
        "test_data = test_data[[\"text\", \"label\"]]"
      ],
      "metadata": {
        "id": "7y1Da9YwVv6n"
      },
      "execution_count": null,
      "outputs": []
    },
    {
      "cell_type": "code",
      "source": [
        "#create column to indicate source of data\n",
        "train_data[\"test_train\"] = \"train\"\n",
        "test_data[\"test_train\"] = \"test\""
      ],
      "metadata": {
        "id": "1892mRyRot9k"
      },
      "execution_count": null,
      "outputs": []
    },
    {
      "cell_type": "code",
      "source": [
        "#combine train and test data \n",
        "data = pd.concat([train_data, test_data], ignore_index=True)"
      ],
      "metadata": {
        "id": "eFla-A9qo6CB"
      },
      "execution_count": null,
      "outputs": []
    },
    {
      "cell_type": "markdown",
      "source": [
        "### Inspect Data"
      ],
      "metadata": {
        "id": "mg-o_b55B1be"
      }
    },
    {
      "cell_type": "code",
      "source": [
        "data.loc[data['test_train'] == \"train\"]"
      ],
      "metadata": {
        "colab": {
          "base_uri": "https://localhost:8080/",
          "height": 424
        },
        "id": "2xTFpYlkB4kt",
        "outputId": "49e37804-3663-424c-aaf9-f88d038010c8"
      },
      "execution_count": null,
      "outputs": [
        {
          "output_type": "execute_result",
          "data": {
            "text/plain": [
              "                                                   text  label test_train\n",
              "0     Elena Smith er 71 år og aktivist. Da hun var y...      1      train\n",
              "1     Med sine advokater på hver sin side har den ti...      1      train\n",
              "2     Det var med rystende hænder og tårer i øjnene,...      1      train\n",
              "3     Høje brændstofpriser, uro i verden og manglend...      1      train\n",
              "4     Siden 1990 har man i Danmark kun benyttet sig ...      1      train\n",
              "...                                                 ...    ...        ...\n",
              "1213  Ifølge avisen har to tredjedele af skolens 123...      1      train\n",
              "1214  Det er ifølge Lars Bo Langsted, professor ved ...      1      train\n",
              "1215  Det skriver Ekstra Bladet onsdag. Nye tal fra ...      1      train\n",
              "1216  De fleste af dem er nu anholdt igen, og er bra...      1      train\n",
              "1217  Formanden for Kopenhagen Fur, Tage Pedersen, s...      1      train\n",
              "\n",
              "[1218 rows x 3 columns]"
            ],
            "text/html": [
              "\n",
              "  <div id=\"df-aade1c7b-cff7-4de1-b88d-dcd35e6d7edf\">\n",
              "    <div class=\"colab-df-container\">\n",
              "      <div>\n",
              "<style scoped>\n",
              "    .dataframe tbody tr th:only-of-type {\n",
              "        vertical-align: middle;\n",
              "    }\n",
              "\n",
              "    .dataframe tbody tr th {\n",
              "        vertical-align: top;\n",
              "    }\n",
              "\n",
              "    .dataframe thead th {\n",
              "        text-align: right;\n",
              "    }\n",
              "</style>\n",
              "<table border=\"1\" class=\"dataframe\">\n",
              "  <thead>\n",
              "    <tr style=\"text-align: right;\">\n",
              "      <th></th>\n",
              "      <th>text</th>\n",
              "      <th>label</th>\n",
              "      <th>test_train</th>\n",
              "    </tr>\n",
              "  </thead>\n",
              "  <tbody>\n",
              "    <tr>\n",
              "      <th>0</th>\n",
              "      <td>Elena Smith er 71 år og aktivist. Da hun var y...</td>\n",
              "      <td>1</td>\n",
              "      <td>train</td>\n",
              "    </tr>\n",
              "    <tr>\n",
              "      <th>1</th>\n",
              "      <td>Med sine advokater på hver sin side har den ti...</td>\n",
              "      <td>1</td>\n",
              "      <td>train</td>\n",
              "    </tr>\n",
              "    <tr>\n",
              "      <th>2</th>\n",
              "      <td>Det var med rystende hænder og tårer i øjnene,...</td>\n",
              "      <td>1</td>\n",
              "      <td>train</td>\n",
              "    </tr>\n",
              "    <tr>\n",
              "      <th>3</th>\n",
              "      <td>Høje brændstofpriser, uro i verden og manglend...</td>\n",
              "      <td>1</td>\n",
              "      <td>train</td>\n",
              "    </tr>\n",
              "    <tr>\n",
              "      <th>4</th>\n",
              "      <td>Siden 1990 har man i Danmark kun benyttet sig ...</td>\n",
              "      <td>1</td>\n",
              "      <td>train</td>\n",
              "    </tr>\n",
              "    <tr>\n",
              "      <th>...</th>\n",
              "      <td>...</td>\n",
              "      <td>...</td>\n",
              "      <td>...</td>\n",
              "    </tr>\n",
              "    <tr>\n",
              "      <th>1213</th>\n",
              "      <td>Ifølge avisen har to tredjedele af skolens 123...</td>\n",
              "      <td>1</td>\n",
              "      <td>train</td>\n",
              "    </tr>\n",
              "    <tr>\n",
              "      <th>1214</th>\n",
              "      <td>Det er ifølge Lars Bo Langsted, professor ved ...</td>\n",
              "      <td>1</td>\n",
              "      <td>train</td>\n",
              "    </tr>\n",
              "    <tr>\n",
              "      <th>1215</th>\n",
              "      <td>Det skriver Ekstra Bladet onsdag. Nye tal fra ...</td>\n",
              "      <td>1</td>\n",
              "      <td>train</td>\n",
              "    </tr>\n",
              "    <tr>\n",
              "      <th>1216</th>\n",
              "      <td>De fleste af dem er nu anholdt igen, og er bra...</td>\n",
              "      <td>1</td>\n",
              "      <td>train</td>\n",
              "    </tr>\n",
              "    <tr>\n",
              "      <th>1217</th>\n",
              "      <td>Formanden for Kopenhagen Fur, Tage Pedersen, s...</td>\n",
              "      <td>1</td>\n",
              "      <td>train</td>\n",
              "    </tr>\n",
              "  </tbody>\n",
              "</table>\n",
              "<p>1218 rows × 3 columns</p>\n",
              "</div>\n",
              "      <button class=\"colab-df-convert\" onclick=\"convertToInteractive('df-aade1c7b-cff7-4de1-b88d-dcd35e6d7edf')\"\n",
              "              title=\"Convert this dataframe to an interactive table.\"\n",
              "              style=\"display:none;\">\n",
              "        \n",
              "  <svg xmlns=\"http://www.w3.org/2000/svg\" height=\"24px\"viewBox=\"0 0 24 24\"\n",
              "       width=\"24px\">\n",
              "    <path d=\"M0 0h24v24H0V0z\" fill=\"none\"/>\n",
              "    <path d=\"M18.56 5.44l.94 2.06.94-2.06 2.06-.94-2.06-.94-.94-2.06-.94 2.06-2.06.94zm-11 1L8.5 8.5l.94-2.06 2.06-.94-2.06-.94L8.5 2.5l-.94 2.06-2.06.94zm10 10l.94 2.06.94-2.06 2.06-.94-2.06-.94-.94-2.06-.94 2.06-2.06.94z\"/><path d=\"M17.41 7.96l-1.37-1.37c-.4-.4-.92-.59-1.43-.59-.52 0-1.04.2-1.43.59L10.3 9.45l-7.72 7.72c-.78.78-.78 2.05 0 2.83L4 21.41c.39.39.9.59 1.41.59.51 0 1.02-.2 1.41-.59l7.78-7.78 2.81-2.81c.8-.78.8-2.07 0-2.86zM5.41 20L4 18.59l7.72-7.72 1.47 1.35L5.41 20z\"/>\n",
              "  </svg>\n",
              "      </button>\n",
              "      \n",
              "  <style>\n",
              "    .colab-df-container {\n",
              "      display:flex;\n",
              "      flex-wrap:wrap;\n",
              "      gap: 12px;\n",
              "    }\n",
              "\n",
              "    .colab-df-convert {\n",
              "      background-color: #E8F0FE;\n",
              "      border: none;\n",
              "      border-radius: 50%;\n",
              "      cursor: pointer;\n",
              "      display: none;\n",
              "      fill: #1967D2;\n",
              "      height: 32px;\n",
              "      padding: 0 0 0 0;\n",
              "      width: 32px;\n",
              "    }\n",
              "\n",
              "    .colab-df-convert:hover {\n",
              "      background-color: #E2EBFA;\n",
              "      box-shadow: 0px 1px 2px rgba(60, 64, 67, 0.3), 0px 1px 3px 1px rgba(60, 64, 67, 0.15);\n",
              "      fill: #174EA6;\n",
              "    }\n",
              "\n",
              "    [theme=dark] .colab-df-convert {\n",
              "      background-color: #3B4455;\n",
              "      fill: #D2E3FC;\n",
              "    }\n",
              "\n",
              "    [theme=dark] .colab-df-convert:hover {\n",
              "      background-color: #434B5C;\n",
              "      box-shadow: 0px 1px 3px 1px rgba(0, 0, 0, 0.15);\n",
              "      filter: drop-shadow(0px 1px 2px rgba(0, 0, 0, 0.3));\n",
              "      fill: #FFFFFF;\n",
              "    }\n",
              "  </style>\n",
              "\n",
              "      <script>\n",
              "        const buttonEl =\n",
              "          document.querySelector('#df-aade1c7b-cff7-4de1-b88d-dcd35e6d7edf button.colab-df-convert');\n",
              "        buttonEl.style.display =\n",
              "          google.colab.kernel.accessAllowed ? 'block' : 'none';\n",
              "\n",
              "        async function convertToInteractive(key) {\n",
              "          const element = document.querySelector('#df-aade1c7b-cff7-4de1-b88d-dcd35e6d7edf');\n",
              "          const dataTable =\n",
              "            await google.colab.kernel.invokeFunction('convertToInteractive',\n",
              "                                                     [key], {});\n",
              "          if (!dataTable) return;\n",
              "\n",
              "          const docLinkHtml = 'Like what you see? Visit the ' +\n",
              "            '<a target=\"_blank\" href=https://colab.research.google.com/notebooks/data_table.ipynb>data table notebook</a>'\n",
              "            + ' to learn more about interactive tables.';\n",
              "          element.innerHTML = '';\n",
              "          dataTable['output_type'] = 'display_data';\n",
              "          await google.colab.output.renderOutput(dataTable, element);\n",
              "          const docLink = document.createElement('div');\n",
              "          docLink.innerHTML = docLinkHtml;\n",
              "          element.appendChild(docLink);\n",
              "        }\n",
              "      </script>\n",
              "    </div>\n",
              "  </div>\n",
              "  "
            ]
          },
          "metadata": {},
          "execution_count": 7
        }
      ]
    },
    {
      "cell_type": "code",
      "source": [
        "data.loc[data['test_train'] == \"test\"]"
      ],
      "metadata": {
        "colab": {
          "base_uri": "https://localhost:8080/",
          "height": 424
        },
        "id": "XV-8ln76B3wD",
        "outputId": "38b794be-a5c9-469f-b788-9437933ef0ed"
      },
      "execution_count": null,
      "outputs": [
        {
          "output_type": "execute_result",
          "data": {
            "text/plain": [
              "                                                   text  label test_train\n",
              "1218  Fra søndag morgen er det ikke længere muligt a...      1       test\n",
              "1219  Der er planer om at opføre et stort antal enor...      1       test\n",
              "1220  Et stort udbrud af salmonella med tre døde og ...      1       test\n",
              "1221  Mange danskere har på et eller andet tidspunkt...      1       test\n",
              "1222  Med krøllet hår, højhælede støvler og et Gucci...      1       test\n",
              "...                                                 ...    ...        ...\n",
              "1309  Hvert år dør omkring 1000 danskere af hjertest...      0       test\n",
              "1310  Torsdag aften var der demonstration foran den ...      0       test\n",
              "1311  Kommunernes tandlæger skal tilbyde gratis tand...      0       test\n",
              "1312  Tre personer er blevet kørt på skadestuen efte...      0       test\n",
              "1313  Børn i børnehavealderen skal ikke have søde sa...      0       test\n",
              "\n",
              "[96 rows x 3 columns]"
            ],
            "text/html": [
              "\n",
              "  <div id=\"df-4c9db701-b690-4cfd-b3d1-c11ed707d16b\">\n",
              "    <div class=\"colab-df-container\">\n",
              "      <div>\n",
              "<style scoped>\n",
              "    .dataframe tbody tr th:only-of-type {\n",
              "        vertical-align: middle;\n",
              "    }\n",
              "\n",
              "    .dataframe tbody tr th {\n",
              "        vertical-align: top;\n",
              "    }\n",
              "\n",
              "    .dataframe thead th {\n",
              "        text-align: right;\n",
              "    }\n",
              "</style>\n",
              "<table border=\"1\" class=\"dataframe\">\n",
              "  <thead>\n",
              "    <tr style=\"text-align: right;\">\n",
              "      <th></th>\n",
              "      <th>text</th>\n",
              "      <th>label</th>\n",
              "      <th>test_train</th>\n",
              "    </tr>\n",
              "  </thead>\n",
              "  <tbody>\n",
              "    <tr>\n",
              "      <th>1218</th>\n",
              "      <td>Fra søndag morgen er det ikke længere muligt a...</td>\n",
              "      <td>1</td>\n",
              "      <td>test</td>\n",
              "    </tr>\n",
              "    <tr>\n",
              "      <th>1219</th>\n",
              "      <td>Der er planer om at opføre et stort antal enor...</td>\n",
              "      <td>1</td>\n",
              "      <td>test</td>\n",
              "    </tr>\n",
              "    <tr>\n",
              "      <th>1220</th>\n",
              "      <td>Et stort udbrud af salmonella med tre døde og ...</td>\n",
              "      <td>1</td>\n",
              "      <td>test</td>\n",
              "    </tr>\n",
              "    <tr>\n",
              "      <th>1221</th>\n",
              "      <td>Mange danskere har på et eller andet tidspunkt...</td>\n",
              "      <td>1</td>\n",
              "      <td>test</td>\n",
              "    </tr>\n",
              "    <tr>\n",
              "      <th>1222</th>\n",
              "      <td>Med krøllet hår, højhælede støvler og et Gucci...</td>\n",
              "      <td>1</td>\n",
              "      <td>test</td>\n",
              "    </tr>\n",
              "    <tr>\n",
              "      <th>...</th>\n",
              "      <td>...</td>\n",
              "      <td>...</td>\n",
              "      <td>...</td>\n",
              "    </tr>\n",
              "    <tr>\n",
              "      <th>1309</th>\n",
              "      <td>Hvert år dør omkring 1000 danskere af hjertest...</td>\n",
              "      <td>0</td>\n",
              "      <td>test</td>\n",
              "    </tr>\n",
              "    <tr>\n",
              "      <th>1310</th>\n",
              "      <td>Torsdag aften var der demonstration foran den ...</td>\n",
              "      <td>0</td>\n",
              "      <td>test</td>\n",
              "    </tr>\n",
              "    <tr>\n",
              "      <th>1311</th>\n",
              "      <td>Kommunernes tandlæger skal tilbyde gratis tand...</td>\n",
              "      <td>0</td>\n",
              "      <td>test</td>\n",
              "    </tr>\n",
              "    <tr>\n",
              "      <th>1312</th>\n",
              "      <td>Tre personer er blevet kørt på skadestuen efte...</td>\n",
              "      <td>0</td>\n",
              "      <td>test</td>\n",
              "    </tr>\n",
              "    <tr>\n",
              "      <th>1313</th>\n",
              "      <td>Børn i børnehavealderen skal ikke have søde sa...</td>\n",
              "      <td>0</td>\n",
              "      <td>test</td>\n",
              "    </tr>\n",
              "  </tbody>\n",
              "</table>\n",
              "<p>96 rows × 3 columns</p>\n",
              "</div>\n",
              "      <button class=\"colab-df-convert\" onclick=\"convertToInteractive('df-4c9db701-b690-4cfd-b3d1-c11ed707d16b')\"\n",
              "              title=\"Convert this dataframe to an interactive table.\"\n",
              "              style=\"display:none;\">\n",
              "        \n",
              "  <svg xmlns=\"http://www.w3.org/2000/svg\" height=\"24px\"viewBox=\"0 0 24 24\"\n",
              "       width=\"24px\">\n",
              "    <path d=\"M0 0h24v24H0V0z\" fill=\"none\"/>\n",
              "    <path d=\"M18.56 5.44l.94 2.06.94-2.06 2.06-.94-2.06-.94-.94-2.06-.94 2.06-2.06.94zm-11 1L8.5 8.5l.94-2.06 2.06-.94-2.06-.94L8.5 2.5l-.94 2.06-2.06.94zm10 10l.94 2.06.94-2.06 2.06-.94-2.06-.94-.94-2.06-.94 2.06-2.06.94z\"/><path d=\"M17.41 7.96l-1.37-1.37c-.4-.4-.92-.59-1.43-.59-.52 0-1.04.2-1.43.59L10.3 9.45l-7.72 7.72c-.78.78-.78 2.05 0 2.83L4 21.41c.39.39.9.59 1.41.59.51 0 1.02-.2 1.41-.59l7.78-7.78 2.81-2.81c.8-.78.8-2.07 0-2.86zM5.41 20L4 18.59l7.72-7.72 1.47 1.35L5.41 20z\"/>\n",
              "  </svg>\n",
              "      </button>\n",
              "      \n",
              "  <style>\n",
              "    .colab-df-container {\n",
              "      display:flex;\n",
              "      flex-wrap:wrap;\n",
              "      gap: 12px;\n",
              "    }\n",
              "\n",
              "    .colab-df-convert {\n",
              "      background-color: #E8F0FE;\n",
              "      border: none;\n",
              "      border-radius: 50%;\n",
              "      cursor: pointer;\n",
              "      display: none;\n",
              "      fill: #1967D2;\n",
              "      height: 32px;\n",
              "      padding: 0 0 0 0;\n",
              "      width: 32px;\n",
              "    }\n",
              "\n",
              "    .colab-df-convert:hover {\n",
              "      background-color: #E2EBFA;\n",
              "      box-shadow: 0px 1px 2px rgba(60, 64, 67, 0.3), 0px 1px 3px 1px rgba(60, 64, 67, 0.15);\n",
              "      fill: #174EA6;\n",
              "    }\n",
              "\n",
              "    [theme=dark] .colab-df-convert {\n",
              "      background-color: #3B4455;\n",
              "      fill: #D2E3FC;\n",
              "    }\n",
              "\n",
              "    [theme=dark] .colab-df-convert:hover {\n",
              "      background-color: #434B5C;\n",
              "      box-shadow: 0px 1px 3px 1px rgba(0, 0, 0, 0.15);\n",
              "      filter: drop-shadow(0px 1px 2px rgba(0, 0, 0, 0.3));\n",
              "      fill: #FFFFFF;\n",
              "    }\n",
              "  </style>\n",
              "\n",
              "      <script>\n",
              "        const buttonEl =\n",
              "          document.querySelector('#df-4c9db701-b690-4cfd-b3d1-c11ed707d16b button.colab-df-convert');\n",
              "        buttonEl.style.display =\n",
              "          google.colab.kernel.accessAllowed ? 'block' : 'none';\n",
              "\n",
              "        async function convertToInteractive(key) {\n",
              "          const element = document.querySelector('#df-4c9db701-b690-4cfd-b3d1-c11ed707d16b');\n",
              "          const dataTable =\n",
              "            await google.colab.kernel.invokeFunction('convertToInteractive',\n",
              "                                                     [key], {});\n",
              "          if (!dataTable) return;\n",
              "\n",
              "          const docLinkHtml = 'Like what you see? Visit the ' +\n",
              "            '<a target=\"_blank\" href=https://colab.research.google.com/notebooks/data_table.ipynb>data table notebook</a>'\n",
              "            + ' to learn more about interactive tables.';\n",
              "          element.innerHTML = '';\n",
              "          dataTable['output_type'] = 'display_data';\n",
              "          await google.colab.output.renderOutput(dataTable, element);\n",
              "          const docLink = document.createElement('div');\n",
              "          docLink.innerHTML = docLinkHtml;\n",
              "          element.appendChild(docLink);\n",
              "        }\n",
              "      </script>\n",
              "    </div>\n",
              "  </div>\n",
              "  "
            ]
          },
          "metadata": {},
          "execution_count": 8
        }
      ]
    },
    {
      "cell_type": "markdown",
      "source": [
        "#### Clean dataset for bag-of-words \n",
        "(remove punctuations, make lowercase)"
      ],
      "metadata": {
        "id": "k4OBdlkAlh8d"
      }
    },
    {
      "cell_type": "code",
      "source": [
        "#remove punctuations\n",
        "data[\"text\"] = data[\"text\"].str.replace(r'[^\\w\\s]+', '')\n",
        "\n",
        "#make lower case\n",
        "data[\"text\"] = data[\"text\"].str.lower()"
      ],
      "metadata": {
        "colab": {
          "base_uri": "https://localhost:8080/"
        },
        "id": "m36-T17flqOq",
        "outputId": "39f8c46e-2b3b-4495-d470-6dff81c3a9c8"
      },
      "execution_count": null,
      "outputs": [
        {
          "output_type": "stream",
          "name": "stderr",
          "text": [
            "<ipython-input-9-11a95a596d0f>:2: FutureWarning: The default value of regex will change from True to False in a future version.\n",
            "  data[\"text\"] = data[\"text\"].str.replace(r'[^\\w\\s]+', '')\n"
          ]
        }
      ]
    },
    {
      "cell_type": "markdown",
      "source": [
        "## Creating TF-IDF Representations"
      ],
      "metadata": {
        "id": "Y9RUMM3KQKrX"
      }
    },
    {
      "cell_type": "code",
      "source": [
        "from sklearn.feature_extraction.text import TfidfVectorizer\n",
        "\n",
        "vectorizer = TfidfVectorizer(lowercase=False)\n",
        "\n",
        "X_TFID = vectorizer.fit_transform(data['text']).toarray()\n",
        "\n",
        "Y_TFID = data[\"label\"].values"
      ],
      "metadata": {
        "id": "QKrJfus2QOQ-"
      },
      "execution_count": null,
      "outputs": []
    },
    {
      "cell_type": "code",
      "source": [
        "X_TFID_train = X_TFID[:1218]\n",
        "X_TFID_test = X_TFID[1218:]\n",
        "Y_TFID_train = Y_TFID[:1218]\n",
        "Y_TFID_test = Y_TFID[1218:]"
      ],
      "metadata": {
        "id": "9aEu9_pBQqQb"
      },
      "execution_count": null,
      "outputs": []
    },
    {
      "cell_type": "markdown",
      "source": [
        "## Logistic Regression"
      ],
      "metadata": {
        "id": "eFp9uh8jCFfF"
      }
    },
    {
      "cell_type": "markdown",
      "source": [
        "#### Fitting Model"
      ],
      "metadata": {
        "id": "ZvTyWcngCNh_"
      }
    },
    {
      "cell_type": "code",
      "source": [
        "from sklearn.linear_model import LogisticRegression\n",
        "lr_TFID = LogisticRegression(solver=\"lbfgs\", C=10, random_state=2, max_iter=250)\n",
        "lr_TFID.fit(X_TFID_train, Y_TFID_train)"
      ],
      "metadata": {
        "colab": {
          "base_uri": "https://localhost:8080/"
        },
        "id": "gxjAvXBNRFyz",
        "outputId": "7a89df69-3c72-49f9-dd45-211d8dbff5c3"
      },
      "execution_count": null,
      "outputs": [
        {
          "output_type": "execute_result",
          "data": {
            "text/plain": [
              "LogisticRegression(C=10, max_iter=250, random_state=2)"
            ]
          },
          "metadata": {},
          "execution_count": 12
        }
      ]
    },
    {
      "cell_type": "markdown",
      "source": [
        "#### Predictions"
      ],
      "metadata": {
        "id": "D3XyYoOoCZDM"
      }
    },
    {
      "cell_type": "code",
      "source": [
        "Y_TFID_predict = lr_TFID.predict(X_TFID_test)\n",
        "Y_TFID_predict"
      ],
      "metadata": {
        "colab": {
          "base_uri": "https://localhost:8080/"
        },
        "id": "oTWKbWrVCXj5",
        "outputId": "83d67cf8-7a7a-440d-a4da-d3c0dca53e68"
      },
      "execution_count": null,
      "outputs": [
        {
          "output_type": "execute_result",
          "data": {
            "text/plain": [
              "array([1, 1, 1, 1, 1, 1, 1, 1, 1, 0, 0, 0, 0, 1, 0, 0, 1, 1, 1, 1, 1, 1,\n",
              "       1, 0, 0, 1, 0, 0, 0, 0, 1, 1, 1, 1, 1, 0, 1, 1, 1, 1, 0, 0, 0, 0,\n",
              "       0, 0, 0, 0, 0, 0, 1, 1, 1, 1, 1, 1, 0, 0, 0, 0, 0, 0, 0, 0, 0, 0,\n",
              "       1, 1, 0, 1, 0, 1, 0, 1, 0, 0, 1, 0, 1, 0, 1, 1, 1, 1, 1, 0, 0, 1,\n",
              "       1, 0, 0, 0, 0, 0, 0, 0])"
            ]
          },
          "metadata": {},
          "execution_count": 13
        }
      ]
    },
    {
      "cell_type": "markdown",
      "source": [
        "#### Metrics (Accuracy, F1, Precision, Recall)"
      ],
      "metadata": {
        "id": "D9PF_iFFCSTK"
      }
    },
    {
      "cell_type": "code",
      "source": [
        "from sklearn import metrics\n",
        "# Use metrics.accuracy_score to measure the score\n",
        "print(\"LogisticRegression Accuracy %.3f\" %metrics.accuracy_score(Y_TFID_test, Y_TFID_predict))\n",
        "print(\"TFID Accuracy %.3f\" %metrics.accuracy_score(Y_TFID_test, Y_TFID_predict))\n",
        "print(\"TFID F1 %.3f\" %metrics.f1_score(Y_TFID_test, Y_TFID_predict))\n",
        "print(\"TFID Precision %.3f\" %metrics.precision_score(Y_TFID_test, Y_TFID_predict))\n",
        "print(\"TFID Recall %.3f\" %metrics.recall_score(Y_TFID_test, Y_TFID_predict))"
      ],
      "metadata": {
        "colab": {
          "base_uri": "https://localhost:8080/"
        },
        "id": "xbnv0ZMyRcyl",
        "outputId": "06517910-c5ab-47ba-f064-522f92ca01d2"
      },
      "execution_count": null,
      "outputs": [
        {
          "output_type": "stream",
          "name": "stdout",
          "text": [
            "LogisticRegression Accuracy 0.802\n",
            "TFID Accuracy 0.802\n",
            "TFID F1 0.800\n",
            "TFID Precision 0.809\n",
            "TFID Recall 0.792\n"
          ]
        }
      ]
    },
    {
      "cell_type": "markdown",
      "source": [
        "#### Confusion Matrix"
      ],
      "metadata": {
        "id": "tfVScesmCgDV"
      }
    },
    {
      "cell_type": "code",
      "source": [
        "cm = metrics.confusion_matrix(Y_TFID_test, Y_TFID_predict, labels=lr_TFID.classes_)\n",
        "\n",
        "import matplotlib.pyplot as plt\n",
        "disp = metrics.ConfusionMatrixDisplay(confusion_matrix=cm, display_labels=lr_TFID.classes_)\n",
        "disp.plot()\n",
        "plt.show()"
      ],
      "metadata": {
        "colab": {
          "base_uri": "https://localhost:8080/",
          "height": 279
        },
        "id": "ADZeIA6SRjqU",
        "outputId": "c24ceb71-7c16-457f-8a27-f45a08a0e148"
      },
      "execution_count": null,
      "outputs": [
        {
          "output_type": "display_data",
          "data": {
            "text/plain": [
              "<Figure size 432x288 with 2 Axes>"
            ],
            "image/png": "[encoded data removed]"
          },
          "metadata": {
            "needs_background": "light"
          }
        }
      ]
    },
    {
      "cell_type": "code",
      "source": [
        "print(cm/np.sum(cm, axis=1).reshape(-1,1)) #confusion matrix in probabilities"
      ],
      "metadata": {
        "colab": {
          "base_uri": "https://localhost:8080/"
        },
        "id": "1eRXJu80CpEF",
        "outputId": "ace3d233-6fd6-4311-e8ab-4f3aa54342c5"
      },
      "execution_count": null,
      "outputs": [
        {
          "output_type": "stream",
          "name": "stdout",
          "text": [
            "[[0.8125     0.1875    ]\n",
            " [0.20833333 0.79166667]]\n"
          ]
        }
      ]
    },
    {
      "cell_type": "markdown",
      "source": [
        "#### Probabilities"
      ],
      "metadata": {
        "id": "eWWaKVRuCuJ6"
      }
    },
    {
      "cell_type": "code",
      "source": [
        "np.set_printoptions(suppress=True)\n",
        "probabilities = lr_TFID.predict_proba(X_TFID_test)"
      ],
      "metadata": {
        "id": "cdBZzgb_jDf5"
      },
      "execution_count": null,
      "outputs": []
    },
    {
      "cell_type": "markdown",
      "source": [
        "#### Saving Predictions to Dataset"
      ],
      "metadata": {
        "id": "YOSNBxlnC0lY"
      }
    },
    {
      "cell_type": "code",
      "source": [
        "test_data[\"prediction_tfid\"] = Y_TFID_predict"
      ],
      "metadata": {
        "id": "bfw0YxWpoBSf"
      },
      "execution_count": null,
      "outputs": []
    },
    {
      "cell_type": "code",
      "source": [
        "Y_probability = [max(probabilities[i]) for i in range(len(probabilities))]\n",
        "test_data[\"probability_tfid\"] = Y_probability"
      ],
      "metadata": {
        "id": "vVfo5EBKpMq5"
      },
      "execution_count": null,
      "outputs": []
    },
    {
      "cell_type": "code",
      "source": [
        "test_data.to_csv(\"tfid_predictions.csv\")"
      ],
      "metadata": {
        "id": "BA56e-prpw5F"
      },
      "execution_count": null,
      "outputs": []
    }
  ]
}